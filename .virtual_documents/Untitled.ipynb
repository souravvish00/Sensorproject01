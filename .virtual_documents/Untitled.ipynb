import pandas as pd
import numpy as np

import warnings
warnings.filterwarnings('ignore')

import seaborn as sns
import matplotlib.pyplot as plt


file_path = r"wafer_23012020_041211.csv"
wafers = pd.read_csv(file_path)
print("shape of the feature store dataset:" , wafers.shape)
wafers.head()



